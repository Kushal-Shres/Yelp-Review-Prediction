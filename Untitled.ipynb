{
 "cells": [
  {
   "cell_type": "code",
   "execution_count": 4,
   "id": "33da0b79-9cb5-4b2a-9eb3-af12c3f070ea",
   "metadata": {
    "tags": []
   },
   "outputs": [],
   "source": [
    "class Person:\n",
    "    def __init__(self, name, age):\n",
    "        self.name = name\n",
    "        self.age = age\n",
    "\n",
    "    def display_info(self):\n",
    "        return (f\"Name: {self.name}, Age: {self.age}\")\n"
   ]
  },
  {
   "cell_type": "code",
   "execution_count": 5,
   "id": "fec59703-8c0a-44b7-a503-3e16849d98ac",
   "metadata": {
    "tags": []
   },
   "outputs": [],
   "source": [
    "class Employee(Person):\n",
    "    def __init__(self, name, age, employee_id):\n",
    "        super().__init__(name, age)\n",
    "        self.employee_id = employee_id\n",
    "\n",
    "    def display_info(self):\n",
    "        person_info = super().display_info()\n",
    "        return (f\"{person_info}, Employee ID: {self.employee_id}\")\n",
    "\n"
   ]
  },
  {
   "cell_type": "code",
   "execution_count": 18,
   "id": "fcf241a1-9e79-4015-bd95-8db0bf371653",
   "metadata": {
    "tags": []
   },
   "outputs": [],
   "source": [
    "class Manager(Employee):\n",
    "    def __init__(self, name, age, manager_id,employee_id):\n",
    "        super().__init__(name, age,employee_id)\n",
    "        self.manager_id = manager_id\n",
    "        self.employee_id = employee_id\n",
    "        \n",
    "    def display_info(self):\n",
    "        person_info = super().display_info()\n",
    "        return (f\"{person_info}, manager_id: {self.manager_id}\")"
   ]
  },
  {
   "cell_type": "code",
   "execution_count": 20,
   "id": "0b3e5cd5-ee38-4dc5-b6dd-2256e4b5546d",
   "metadata": {
    "tags": []
   },
   "outputs": [
    {
     "data": {
      "text/plain": [
       "'Name: Man, Age: 30, Employee ID: E002, manager_id: M001'"
      ]
     },
     "execution_count": 20,
     "metadata": {},
     "output_type": "execute_result"
    }
   ],
   "source": [
    "employee1 = Employee(\"John Doe\", 30, \"E001\")\n",
    "\n",
    "manager1 = Manager(\"Man\", 30, \"M001\",\"E002\")\n",
    "manager1.display_info()"
   ]
  },
  {
   "cell_type": "code",
   "execution_count": 21,
   "id": "102964f4-4107-4b49-9045-983e65b45df3",
   "metadata": {
    "tags": []
   },
   "outputs": [],
   "source": [
    "class Department:\n",
    "    def __init__(self, name, location):\n",
    "        self.name = name\n",
    "        self.location = location\n",
    "        self.employees = []\n",
    "\n",
    "    def add_employee(self, employee):\n",
    "        self.employees.append(employee)\n",
    "\n",
    "    def display_info(self):\n",
    "        employee_info = \"\\n\".join(employee.display_info() for employee in self.employees)\n",
    "        return f\"Department: {self.name}\\nLocation: {self.location}\\nEmployees:\\n{employee_info}\"\n",
    "\n"
   ]
  },
  {
   "cell_type": "code",
   "execution_count": 22,
   "id": "4cae40eb-b4e4-44eb-aac0-ba2816a548d4",
   "metadata": {
    "tags": []
   },
   "outputs": [
    {
     "name": "stdout",
     "output_type": "stream",
     "text": [
      "Department: Human Resources\n",
      "Location: Building A\n",
      "Employees:\n",
      "Name: John Doe, Age: 30, Employee ID: E001\n",
      "Department: Information Technology\n",
      "Location: Building B\n",
      "Employees:\n",
      "Name: Jane Smith, Age: 28, Employee ID: E002\n"
     ]
    }
   ],
   "source": [
    "employee1 = Employee(\"John Doe\", 30, \"E001\")\n",
    "employee2 = Employee(\"Jane Smith\", 28, \"E002\")\n",
    "\n",
    "department_hr = Department(\"Human Resources\", \"Building A\")\n",
    "department_it = Department(\"Information Technology\", \"Building B\")\n",
    "\n",
    "department_hr.add_employee(employee1)\n",
    "department_it.add_employee(employee2)\n",
    "\n",
    "print(department_hr.display_info())\n",
    "print(department_it.display_info())"
   ]
  },
  {
   "cell_type": "code",
   "execution_count": null,
   "id": "52790513-ba92-4de2-a5f9-2946250b02ac",
   "metadata": {},
   "outputs": [],
   "source": []
  }
 ],
 "metadata": {
  "kernelspec": {
   "display_name": "Python 3 (ipykernel)",
   "language": "python",
   "name": "python3"
  },
  "language_info": {
   "codemirror_mode": {
    "name": "ipython",
    "version": 3
   },
   "file_extension": ".py",
   "mimetype": "text/x-python",
   "name": "python",
   "nbconvert_exporter": "python",
   "pygments_lexer": "ipython3",
   "version": "3.11.5"
  }
 },
 "nbformat": 4,
 "nbformat_minor": 5
}
